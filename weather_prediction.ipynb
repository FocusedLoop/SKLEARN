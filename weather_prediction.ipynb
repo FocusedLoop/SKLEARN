{
 "cells": [
  {
   "cell_type": "code",
   "execution_count": 2,
   "id": "bad24a76-d5be-4bbc-a45f-9ef398d85ecd",
   "metadata": {},
   "outputs": [
    {
     "name": "stdout",
     "output_type": "stream",
     "text": [
      "Requirement already satisfied: pandas in c:\\python312\\lib\\site-packages (2.2.2)\n",
      "Requirement already satisfied: numpy>=1.26.0 in c:\\python312\\lib\\site-packages (from pandas) (1.26.4)\n",
      "Requirement already satisfied: python-dateutil>=2.8.2 in c:\\python312\\lib\\site-packages (from pandas) (2.9.0.post0)\n",
      "Requirement already satisfied: pytz>=2020.1 in c:\\python312\\lib\\site-packages (from pandas) (2024.2)\n",
      "Requirement already satisfied: tzdata>=2022.7 in c:\\python312\\lib\\site-packages (from pandas) (2024.1)\n",
      "Requirement already satisfied: six>=1.5 in c:\\users\\joshua\\appdata\\roaming\\python\\python312\\site-packages (from python-dateutil>=2.8.2->pandas) (1.16.0)\n"
     ]
    },
    {
     "name": "stderr",
     "output_type": "stream",
     "text": [
      "WARNING: Ignoring invalid distribution ~ip (C:\\Python312\\Lib\\site-packages)\n",
      "WARNING: Ignoring invalid distribution ~ip (C:\\Python312\\Lib\\site-packages)\n",
      "WARNING: Ignoring invalid distribution ~ip (C:\\Python312\\Lib\\site-packages)\n"
     ]
    },
    {
     "name": "stdout",
     "output_type": "stream",
     "text": [
      "Requirement already satisfied: openpyxl in c:\\python312\\lib\\site-packages (3.1.5)\n",
      "Requirement already satisfied: et-xmlfile in c:\\python312\\lib\\site-packages (from openpyxl) (1.1.0)\n"
     ]
    },
    {
     "name": "stderr",
     "output_type": "stream",
     "text": [
      "WARNING: Ignoring invalid distribution ~ip (C:\\Python312\\Lib\\site-packages)\n",
      "WARNING: Ignoring invalid distribution ~ip (C:\\Python312\\Lib\\site-packages)\n",
      "WARNING: Ignoring invalid distribution ~ip (C:\\Python312\\Lib\\site-packages)\n"
     ]
    },
    {
     "name": "stdout",
     "output_type": "stream",
     "text": [
      "Requirement already satisfied: scikit-learn in c:\\python312\\lib\\site-packages (1.5.2)\n",
      "Requirement already satisfied: numpy>=1.19.5 in c:\\python312\\lib\\site-packages (from scikit-learn) (1.26.4)\n",
      "Requirement already satisfied: scipy>=1.6.0 in c:\\python312\\lib\\site-packages (from scikit-learn) (1.14.1)\n",
      "Requirement already satisfied: joblib>=1.2.0 in c:\\python312\\lib\\site-packages (from scikit-learn) (1.4.2)\n",
      "Requirement already satisfied: threadpoolctl>=3.1.0 in c:\\python312\\lib\\site-packages (from scikit-learn) (3.5.0)\n"
     ]
    },
    {
     "name": "stderr",
     "output_type": "stream",
     "text": [
      "WARNING: Ignoring invalid distribution ~ip (C:\\Python312\\Lib\\site-packages)\n",
      "WARNING: Ignoring invalid distribution ~ip (C:\\Python312\\Lib\\site-packages)\n",
      "WARNING: Ignoring invalid distribution ~ip (C:\\Python312\\Lib\\site-packages)\n"
     ]
    },
    {
     "name": "stdout",
     "output_type": "stream",
     "text": [
      "Requirement already satisfied: tqdm in c:\\python312\\lib\\site-packages (4.66.5)\n",
      "Requirement already satisfied: colorama in c:\\users\\joshua\\appdata\\roaming\\python\\python312\\site-packages (from tqdm) (0.4.6)\n"
     ]
    },
    {
     "name": "stderr",
     "output_type": "stream",
     "text": [
      "WARNING: Ignoring invalid distribution ~ip (C:\\Python312\\Lib\\site-packages)\n",
      "WARNING: Ignoring invalid distribution ~ip (C:\\Python312\\Lib\\site-packages)\n",
      "WARNING: Ignoring invalid distribution ~ip (C:\\Python312\\Lib\\site-packages)\n"
     ]
    }
   ],
   "source": [
    "!pip install pandas\n",
    "!pip install openpyxl\n",
    "!pip install scikit-learn\n",
    "!pip install tqdm"
   ]
  },
  {
   "cell_type": "code",
   "execution_count": 1,
   "id": "5ddb18e4-fac8-440e-9c7b-192fbb1842c6",
   "metadata": {},
   "outputs": [],
   "source": [
    "import pandas as pd\n",
    "from tqdm import tqdm\n",
    "from sklearn.model_selection import train_test_split\n",
    "from sklearn.ensemble import RandomForestRegressor\n",
    "from sklearn.metrics import mean_squared_error, r2_score\n",
    "from sklearn.preprocessing import LabelEncoder\n",
    "from sklearn.model_selection import GridSearchCV"
   ]
  },
  {
   "cell_type": "code",
   "execution_count": 2,
   "id": "688ee79f-0f38-4752-8f28-3d7f9c68fa99",
   "metadata": {},
   "outputs": [
    {
     "name": "stdout",
     "output_type": "stream",
     "text": [
      "  Product code  Bureau of Meteorology station number  Year  Month  Day  \\\n",
      "0   IDCJAC0010                                 66062  1859      1    1   \n",
      "1   IDCJAC0010                                 66062  1859      1    2   \n",
      "2   IDCJAC0010                                 66062  1859      1    3   \n",
      "3   IDCJAC0010                                 66062  1859      1    4   \n",
      "4   IDCJAC0010                                 66062  1859      1    5   \n",
      "\n",
      "   Maximum temperature (Degree C)  \\\n",
      "0                            24.4   \n",
      "1                            24.4   \n",
      "2                            24.2   \n",
      "3                            24.7   \n",
      "4                            24.6   \n",
      "\n",
      "   Days of accumulation of maximum temperature Quality  \n",
      "0                                          NaN       Y  \n",
      "1                                          1.0       Y  \n",
      "2                                          1.0       Y  \n",
      "3                                          1.0       Y  \n",
      "4                                          1.0       Y  \n",
      "X values:\n",
      "        Year  Month  Day  Days of accumulation of maximum temperature  Quality\n",
      "0      1859      1    1                                          NaN        1\n",
      "1      1859      1    2                                          1.0        1\n",
      "2      1859      1    3                                          1.0        1\n",
      "3      1859      1    4                                          1.0        1\n",
      "4      1859      1    5                                          1.0        1\n",
      "...     ...    ...  ...                                          ...      ...\n",
      "58723  2019     10   12                                          1.0        0\n",
      "58724  2019     10   13                                          1.0        0\n",
      "58725  2019     10   14                                          1.0        0\n",
      "58726  2019     10   15                                          1.0        0\n",
      "58727  2019     10   16                                          1.0        0\n",
      "\n",
      "[58728 rows x 5 columns]\n",
      "Y values:\n",
      " 0        24.4\n",
      "1        24.4\n",
      "2        24.2\n",
      "3        24.7\n",
      "4        24.6\n",
      "         ... \n",
      "58723    20.4\n",
      "58724    19.2\n",
      "58725    21.9\n",
      "58726    24.0\n",
      "58727    23.0\n",
      "Name: Maximum temperature (Degree C), Length: 58728, dtype: float64\n",
      "Number of NaN values in y before: 151\n",
      "Number of NaN values in y after: 0\n"
     ]
    }
   ],
   "source": [
    "# Load data set\n",
    "filename = 'IDCJAC0010_066062_1800_Data.csv'\n",
    "weather_data = pd.read_csv('C:/Users/Joshua/Desktop/python_ai/sklearn_models/archive/' + filename)\n",
    "\n",
    "# Display first row\n",
    "print(weather_data.head())\n",
    "\n",
    "# Edit columns\n",
    "weather_data['Date'] = pd.to_datetime(weather_data[['Year', 'Month', 'Day']])\n",
    "weather_data = weather_data.drop(columns=['Product code', 'Bureau of Meteorology station number', 'Date'])\n",
    "\n",
    "# Create a LabelEncoder instance\n",
    "le = LabelEncoder()\n",
    "\n",
    "# Apply label encoding to the 'Quality' column\n",
    "weather_data['Quality'] = le.fit_transform(weather_data['Quality'])\n",
    "\n",
    "# Access features\n",
    "X = weather_data.drop('Maximum temperature (Degree C)', axis=1)\n",
    "y = weather_data['Maximum temperature (Degree C)']\n",
    "y = pd.to_numeric(y, errors='coerce')\n",
    "print(\"X values:\\n\", X)\n",
    "print(\"Y values:\\n\", y)\n",
    "print(f\"Number of NaN values in y before: {y.isna().sum()}\")\n",
    "\n",
    "# Replace NaN with mean\n",
    "y.fillna(y.mean(), inplace=True)\n",
    "\n",
    "print(f\"Number of NaN values in y after: {y.isna().sum()}\")"
   ]
  },
  {
   "cell_type": "code",
   "execution_count": 5,
   "id": "32ea2794-2961-4fd3-b23b-5b7cbbd37036",
   "metadata": {},
   "outputs": [
    {
     "name": "stdout",
     "output_type": "stream",
     "text": [
      "Fitting 5 folds for each of 324 candidates, totalling 1620 fits\n",
      "Best hyperparameters:  {'max_depth': 20, 'max_features': None, 'min_samples_leaf': 1, 'min_samples_split': 10, 'n_estimators': 1000}\n",
      "Mean Squared Error: 8.9076151203949\n",
      "R² Score: 0.589621691146486\n"
     ]
    }
   ],
   "source": [
    "# Split the dataset\n",
    "X_train, X_test, y_train, y_test = train_test_split(X, y, test_size=0.3, random_state=0)\n",
    "\n",
    "# Create the model\n",
    "rf = RandomForestRegressor(random_state=0)\n",
    "\n",
    "# Hyperparameter ranges\n",
    "param_grid = {\n",
    "    'n_estimators': [100, 500, 1000],      # Number of trees in the forest\n",
    "    'max_depth': [10, 20, 30, None],       # Maximum depth of each tree\n",
    "    'min_samples_split': [2, 5, 10],       # Minimum samples required to split an internal node\n",
    "    'min_samples_leaf': [1, 2, 4],         # Minimum samples required at each leaf node\n",
    "    'max_features': [None, 'sqrt', 'log2']  # Number of features to consider for splits\n",
    "}\n",
    "\n",
    "# Select best hyper parameters\n",
    "grid_search = GridSearchCV(estimator=rf, param_grid=param_grid, cv=5, n_jobs=-1, verbose=2, scoring='neg_mean_squared_error')\n",
    "\n",
    "# Find best set hyperparameters\n",
    "grid_search.fit(X_train, y_train)\n",
    "\n",
    "# Select best hyperparameter\n",
    "print(\"Best hyperparameters: \", grid_search.best_params_)\n",
    "best_rf = grid_search.best_estimator_\n",
    "\n",
    "# Predict best model\n",
    "y_pred = best_rf.predict(X_test)\n",
    "\n",
    "# Evaluate\n",
    "mse = mean_squared_error(y_test, y_pred)\n",
    "r2 = r2_score(y_test, y_pred)\n",
    "\n",
    "print(f\"Mean Squared Error: {mse}\")\n",
    "print(f\"R² Score: {r2}\")"
   ]
  },
  {
   "cell_type": "code",
   "execution_count": 8,
   "id": "2180c8a6-99c3-4be4-aa59-4f3f92f959ca",
   "metadata": {},
   "outputs": [
    {
     "name": "stdout",
     "output_type": "stream",
     "text": [
      "Predicted maximum temperature for that year: 22.97 °C\n"
     ]
    }
   ],
   "source": [
    "# Make prediction from input\n",
    "input_data = {\n",
    "    'Year': 2024,\n",
    "    'Month': 9,\n",
    "    'Day': 30,\n",
    "    'Days of accumulation of maximum temperature': 1.0,\n",
    "    'Quality': 1\n",
    "}\n",
    "\n",
    "# Convert to a dataframe\n",
    "input_df = pd.DataFrame([input_data])\n",
    "\n",
    "# Make prediction with model\n",
    "predicted_temperature = best_rf.predict(input_df)\n",
    "print(f\"Predicted maximum temperature for that year: {predicted_temperature[0]:.2f} °C\")"
   ]
  },
  {
   "cell_type": "code",
   "execution_count": null,
   "id": "dfd18d6c-da74-4db6-a061-082d3e2a2552",
   "metadata": {},
   "outputs": [],
   "source": []
  }
 ],
 "metadata": {
  "kernelspec": {
   "display_name": "Python 3 (ipykernel)",
   "language": "python",
   "name": "python3"
  },
  "language_info": {
   "codemirror_mode": {
    "name": "ipython",
    "version": 3
   },
   "file_extension": ".py",
   "mimetype": "text/x-python",
   "name": "python",
   "nbconvert_exporter": "python",
   "pygments_lexer": "ipython3",
   "version": "3.12.3"
  }
 },
 "nbformat": 4,
 "nbformat_minor": 5
}
